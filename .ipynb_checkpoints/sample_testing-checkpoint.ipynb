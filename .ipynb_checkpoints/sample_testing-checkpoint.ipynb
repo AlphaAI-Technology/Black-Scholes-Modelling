{
 "cells": [
  {
   "cell_type": "code",
   "execution_count": 4,
   "metadata": {
    "pycharm": {
     "is_executing": true
    }
   },
   "outputs": [],
   "source": [
    "from option_chain import option_chain"
   ]
  },
  {
   "cell_type": "code",
   "execution_count": 8,
   "metadata": {},
   "outputs": [],
   "source": [
    "d1, d2, call, put, put_delta, call_delta, call_theta, put_theta, gamma, vega, call_rho, put_rho = option_chain(\n",
    "    S=100.00, K=100.00, T=7, sigma=0.50, r=0.05)"
   ]
  },
  {
   "cell_type": "code",
   "execution_count": 9,
   "metadata": {},
   "outputs": [
    {
     "name": "stdout",
     "output_type": "stream",
     "text": [
      "Internal D1 Value : 0.04847 & D2 Value : -0.02077\n",
      "Call Value is : 2.80869\n",
      "Call Delta is : 0.51933\n",
      "Call Theta is : -0.20381\n",
      "Call Gamma is : 0.05755\n",
      "Call Vega is : 0.05518\n",
      "Call Rho is : 0.00942\n",
      "Put Value is : 2.71284\n",
      "Put Delta is : -0.48067\n",
      "Put Theta is : -0.19012\n",
      "Put Gamma is : 0.05755\n",
      "Put Vega is : 0.05518\n",
      "Put Rho is : -0.00974\n"
     ]
    }
   ],
   "source": [
    "print(\"Internal D1 Value : %2.5f & D2 Value : %2.5f\" % (d1, d2))\n",
    "print(\"Call Value is : %2.5f\" % call)\n",
    "print(\"Call Delta is : %2.5f\" % call_delta)\n",
    "print(\"Call Theta is : %2.5f\" % call_theta)\n",
    "print(\"Call Gamma is : %2.5f\" % gamma)\n",
    "print(\"Call Vega is : %2.5f\" % vega)\n",
    "print(\"Call Rho is : %2.5f\" % call_rho)\n",
    "\n",
    "print(\"Put Value is : %2.5f\" % put)\n",
    "print(\"Put Delta is : %2.5f\" % put_delta)\n",
    "print(\"Put Theta is : %2.5f\" % put_theta)\n",
    "print(\"Put Gamma is : %2.5f\" % gamma)\n",
    "print(\"Put Vega is : %2.5f\" % vega)\n",
    "print(\"Put Rho is : %2.5f\" % put_rho)"
   ]
  },
  {
   "cell_type": "code",
   "execution_count": 10,
   "metadata": {},
   "outputs": [],
   "source": [
    "open, high, low, close = 100, 120, 98, 12\n"
   ]
  },
  {
   "cell_type": "code",
   "execution_count": 13,
   "metadata": {},
   "outputs": [],
   "source": [
    "import numpy as np"
   ]
  },
  {
   "cell_type": "code",
   "execution_count": 22,
   "metadata": {},
   "outputs": [
    {
     "ename": "TypeError",
     "evalue": "descriptor 'lognormal' for 'numpy.random._generator.Generator' objects doesn't apply to a 'float' object",
     "output_type": "error",
     "traceback": [
      "\u001B[0;31m---------------------------------------------------------------------------\u001B[0m",
      "\u001B[0;31mTypeError\u001B[0m                                 Traceback (most recent call last)",
      "Cell \u001B[0;32mIn[22], line 1\u001B[0m\n\u001B[0;32m----> 1\u001B[0m price \u001B[38;5;241m=\u001B[39m \u001B[43mnp\u001B[49m\u001B[38;5;241;43m.\u001B[39;49m\u001B[43mrandom\u001B[49m\u001B[38;5;241;43m.\u001B[39;49m\u001B[43mGenerator\u001B[49m\u001B[38;5;241;43m.\u001B[39;49m\u001B[43mlognormal\u001B[49m\u001B[43m(\u001B[49m\u001B[38;5;241;43m0.2\u001B[39;49m\u001B[43m,\u001B[49m\u001B[43m \u001B[49m\u001B[38;5;241;43m0.1\u001B[39;49m\u001B[43m,\u001B[49m\u001B[43m \u001B[49m\u001B[38;5;241;43m9\u001B[39;49m\u001B[43m)\u001B[49m\n\u001B[1;32m      2\u001B[0m price\n",
      "\u001B[0;31mTypeError\u001B[0m: descriptor 'lognormal' for 'numpy.random._generator.Generator' objects doesn't apply to a 'float' object"
     ]
    }
   ],
   "source": [
    "price = np.random.Generator.lognormal(0.2, 0.1, 9)\n",
    "price"
   ]
  },
  {
   "cell_type": "code",
   "execution_count": 24,
   "metadata": {},
   "outputs": [
    {
     "data": {
      "text/plain": [
       "array([4.52255311, 0.7007679 , 1.04591436, 1.29302194, 0.76047949,\n",
       "       4.144561  , 2.34080839, 1.55043427, 0.79458936, 2.13409184])"
      ]
     },
     "execution_count": 24,
     "metadata": {},
     "output_type": "execute_result"
    }
   ],
   "source": [
    "rng = np.random.default_rng()\n",
    "mu, sigma = 0.2, 0.5 # mean and standard deviation\n",
    "s = rng.lognormal(mu, sigma, 10)\n",
    "s"
   ]
  },
  {
   "cell_type": "code",
   "execution_count": null,
   "metadata": {},
   "outputs": [],
   "source": []
  }
 ],
 "metadata": {
  "kernelspec": {
   "display_name": "Python 3 (ipykernel)",
   "language": "python",
   "name": "python3"
  },
  "language_info": {
   "codemirror_mode": {
    "name": "ipython",
    "version": 3
   },
   "file_extension": ".py",
   "mimetype": "text/x-python",
   "name": "python",
   "nbconvert_exporter": "python",
   "pygments_lexer": "ipython3",
   "version": "3.11.2"
  }
 },
 "nbformat": 4,
 "nbformat_minor": 1
}
